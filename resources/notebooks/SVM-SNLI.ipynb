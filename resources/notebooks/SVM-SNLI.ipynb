{
 "cells": [
  {
   "cell_type": "code",
   "execution_count": 1,
   "metadata": {
    "collapsed": true
   },
   "outputs": [],
   "source": [
    "%matplotlib inline\n",
    "import collections\n",
    "import math\n",
    "import numpy as np\n",
    "from matplotlib import pyplot as plt\n",
    "import os\n",
    "from scipy import stats\n",
    "from apt_toolkit.utils.base import path_utils\n",
    "from apt_toolkit.utils import vector_utils\n",
    "import seaborn as sns\n",
    "import pandas as pd\n",
    "\n",
    "DATA_PATH='../example_data/snli_svm.json'"
   ]
  },
  {
   "cell_type": "code",
   "execution_count": 2,
   "metadata": {
    "collapsed": false
   },
   "outputs": [
    {
     "name": "stdout",
     "output_type": "stream",
     "text": [
      "Index(['level_0', 'C', 'binarise', 'composition_method', 'ngram_max', 'result',\n",
      "       'index'],\n",
      "      dtype='object')\n"
     ]
    },
    {
     "ename": "ValueError",
     "evalue": "r_matrix performs f_test for using dimensions that are asymptotically non-normal",
     "output_type": "error",
     "traceback": [
      "\u001b[0;31m---------------------------------------------------------------------------\u001b[0m",
      "\u001b[0;31mValueError\u001b[0m                                Traceback (most recent call last)",
      "\u001b[0;32m<ipython-input-2-76302e9a0a5c>\u001b[0m in \u001b[0;36m<module>\u001b[0;34m()\u001b[0m\n\u001b[1;32m      1\u001b[0m \u001b[0;32mfrom\u001b[0m \u001b[0mparalysis\u001b[0m\u001b[0;34m.\u001b[0m\u001b[0mparameter_ablation\u001b[0m \u001b[0;32mimport\u001b[0m \u001b[0mParameterAnalyser\u001b[0m\u001b[0;34m\u001b[0m\u001b[0m\n\u001b[1;32m      2\u001b[0m \u001b[0mpa\u001b[0m \u001b[0;34m=\u001b[0m \u001b[0mParameterAnalyser\u001b[0m\u001b[0;34m(\u001b[0m\u001b[0mdata\u001b[0m\u001b[0;34m=\u001b[0m\u001b[0mDATA_PATH\u001b[0m\u001b[0;34m,\u001b[0m \u001b[0mlabel_name\u001b[0m\u001b[0;34m=\u001b[0m\u001b[0;34m'result'\u001b[0m\u001b[0;34m)\u001b[0m\u001b[0;34m\u001b[0m\u001b[0m\n\u001b[0;32m----> 3\u001b[0;31m \u001b[0mpa\u001b[0m\u001b[0;34m.\u001b[0m\u001b[0mfit_ols\u001b[0m\u001b[0;34m(\u001b[0m\u001b[0;34m)\u001b[0m\u001b[0;34m\u001b[0m\u001b[0m\n\u001b[0m\u001b[1;32m      4\u001b[0m \u001b[0;34m\u001b[0m\u001b[0m\n\u001b[1;32m      5\u001b[0m \u001b[0mprint\u001b[0m\u001b[0;34m(\u001b[0m\u001b[0mpa\u001b[0m\u001b[0;34m.\u001b[0m\u001b[0manova_table_fmt_\u001b[0m\u001b[0;34m)\u001b[0m\u001b[0;34m\u001b[0m\u001b[0m\n",
      "\u001b[0;32m/Users/thomas/DevSandbox/InfiniteSandbox/tag-lab/paralysis/paralysis/parameter_ablation.py\u001b[0m in \u001b[0;36mfit_ols\u001b[0;34m(self, anova_scale, anova_type, anova_test, anova_robust)\u001b[0m\n\u001b[1;32m     51\u001b[0m                 \u001b[0;31m# ANOVA ablation\u001b[0m\u001b[0;34m\u001b[0m\u001b[0;34m\u001b[0m\u001b[0m\n\u001b[1;32m     52\u001b[0m                 \u001b[0;31m# ANOVA type explanation: https://mcfromnz.wordpress.com/2011/03/02/anova-type-iiiiii-ss-explained/\u001b[0m\u001b[0;34m\u001b[0m\u001b[0;34m\u001b[0m\u001b[0m\n\u001b[0;32m---> 53\u001b[0;31m                 \u001b[0manova_table\u001b[0m \u001b[0;34m=\u001b[0m \u001b[0msm\u001b[0m\u001b[0;34m.\u001b[0m\u001b[0mstats\u001b[0m\u001b[0;34m.\u001b[0m\u001b[0manova_lm\u001b[0m\u001b[0;34m(\u001b[0m\u001b[0mmodel\u001b[0m\u001b[0;34m,\u001b[0m \u001b[0mtyp\u001b[0m\u001b[0;34m=\u001b[0m\u001b[0manova_type\u001b[0m\u001b[0;34m,\u001b[0m \u001b[0mscale\u001b[0m\u001b[0;34m=\u001b[0m\u001b[0manova_scale\u001b[0m\u001b[0;34m,\u001b[0m \u001b[0mtest\u001b[0m\u001b[0;34m=\u001b[0m\u001b[0manova_test\u001b[0m\u001b[0;34m,\u001b[0m \u001b[0mrobust\u001b[0m\u001b[0;34m=\u001b[0m\u001b[0manova_robust\u001b[0m\u001b[0;34m)\u001b[0m\u001b[0;34m\u001b[0m\u001b[0m\n\u001b[0m\u001b[1;32m     54\u001b[0m                 \u001b[0manova_table\u001b[0m\u001b[0;34m[\u001b[0m\u001b[0;34m'partial_sum_sq'\u001b[0m\u001b[0;34m]\u001b[0m \u001b[0;34m=\u001b[0m \u001b[0;34m(\u001b[0m\u001b[0manova_table\u001b[0m\u001b[0;34m[\u001b[0m\u001b[0;34m'sum_sq'\u001b[0m\u001b[0;34m]\u001b[0m \u001b[0;34m/\u001b[0m \u001b[0manova_table\u001b[0m\u001b[0;34m[\u001b[0m\u001b[0;34m'sum_sq'\u001b[0m\u001b[0;34m]\u001b[0m\u001b[0;34m.\u001b[0m\u001b[0msum\u001b[0m\u001b[0;34m(\u001b[0m\u001b[0;34m)\u001b[0m\u001b[0;34m)\u001b[0m\u001b[0;34m\u001b[0m\u001b[0m\n\u001b[1;32m     55\u001b[0m                 \u001b[0manova_table\u001b[0m\u001b[0;34m[\u001b[0m\u001b[0;34m'pct_explained'\u001b[0m\u001b[0;34m]\u001b[0m \u001b[0;34m=\u001b[0m \u001b[0;34m(\u001b[0m\u001b[0manova_table\u001b[0m\u001b[0;34m[\u001b[0m\u001b[0;34m'sum_sq'\u001b[0m\u001b[0;34m]\u001b[0m \u001b[0;34m/\u001b[0m \u001b[0manova_table\u001b[0m\u001b[0;34m[\u001b[0m\u001b[0;34m'sum_sq'\u001b[0m\u001b[0;34m]\u001b[0m\u001b[0;34m.\u001b[0m\u001b[0msum\u001b[0m\u001b[0;34m(\u001b[0m\u001b[0;34m)\u001b[0m\u001b[0;34m)\u001b[0m \u001b[0;34m*\u001b[0m \u001b[0;36m100\u001b[0m\u001b[0;34m\u001b[0m\u001b[0m\n",
      "\u001b[0;32m/Users/thomas/.virtualenvs/nlpy3/lib/python3.5/site-packages/statsmodels/stats/anova.py\u001b[0m in \u001b[0;36manova_lm\u001b[0;34m(*args, **kwargs)\u001b[0m\n\u001b[1;32m    321\u001b[0m     \u001b[0;32mif\u001b[0m \u001b[0mlen\u001b[0m\u001b[0;34m(\u001b[0m\u001b[0margs\u001b[0m\u001b[0;34m)\u001b[0m \u001b[0;34m==\u001b[0m \u001b[0;36m1\u001b[0m\u001b[0;34m:\u001b[0m\u001b[0;34m\u001b[0m\u001b[0m\n\u001b[1;32m    322\u001b[0m         \u001b[0mmodel\u001b[0m \u001b[0;34m=\u001b[0m \u001b[0margs\u001b[0m\u001b[0;34m[\u001b[0m\u001b[0;36m0\u001b[0m\u001b[0;34m]\u001b[0m\u001b[0;34m\u001b[0m\u001b[0m\n\u001b[0;32m--> 323\u001b[0;31m         \u001b[0;32mreturn\u001b[0m \u001b[0manova_single\u001b[0m\u001b[0;34m(\u001b[0m\u001b[0mmodel\u001b[0m\u001b[0;34m,\u001b[0m \u001b[0;34m**\u001b[0m\u001b[0mkwargs\u001b[0m\u001b[0;34m)\u001b[0m\u001b[0;34m\u001b[0m\u001b[0m\n\u001b[0m\u001b[1;32m    324\u001b[0m \u001b[0;34m\u001b[0m\u001b[0m\n\u001b[1;32m    325\u001b[0m     \u001b[0;32mtry\u001b[0m\u001b[0;34m:\u001b[0m\u001b[0;34m\u001b[0m\u001b[0m\n",
      "\u001b[0;32m/Users/thomas/.virtualenvs/nlpy3/lib/python3.5/site-packages/statsmodels/stats/anova.py\u001b[0m in \u001b[0;36manova_single\u001b[0;34m(model, **kwargs)\u001b[0m\n\u001b[1;32m     76\u001b[0m     \u001b[0;32melif\u001b[0m \u001b[0mtyp\u001b[0m \u001b[0;32min\u001b[0m \u001b[0;34m[\u001b[0m\u001b[0;36m2\u001b[0m\u001b[0;34m,\u001b[0m \u001b[0;34m\"II\"\u001b[0m\u001b[0;34m]\u001b[0m\u001b[0;34m:\u001b[0m\u001b[0;34m\u001b[0m\u001b[0m\n\u001b[1;32m     77\u001b[0m         return anova2_lm_single(model, design_info, n_rows, test, pr_test,\n\u001b[0;32m---> 78\u001b[0;31m                 robust)\n\u001b[0m\u001b[1;32m     79\u001b[0m     \u001b[0;32melif\u001b[0m \u001b[0mtyp\u001b[0m \u001b[0;32min\u001b[0m \u001b[0;34m[\u001b[0m\u001b[0;36m3\u001b[0m\u001b[0;34m,\u001b[0m \u001b[0;34m\"III\"\u001b[0m\u001b[0;34m]\u001b[0m\u001b[0;34m:\u001b[0m\u001b[0;34m\u001b[0m\u001b[0m\n\u001b[1;32m     80\u001b[0m         return anova3_lm_single(model, design_info, n_rows, test, pr_test,\n",
      "\u001b[0;32m/Users/thomas/.virtualenvs/nlpy3/lib/python3.5/site-packages/statsmodels/stats/anova.py\u001b[0m in \u001b[0;36manova2_lm_single\u001b[0;34m(model, design_info, n_rows, test, pr_test, robust)\u001b[0m\n\u001b[1;32m    209\u001b[0m         \u001b[0;31m#from IPython.core.debugger import Pdb; Pdb().set_trace()\u001b[0m\u001b[0;34m\u001b[0m\u001b[0;34m\u001b[0m\u001b[0m\n\u001b[1;32m    210\u001b[0m         \u001b[0;32mif\u001b[0m \u001b[0mtest\u001b[0m \u001b[0;34m==\u001b[0m \u001b[0;34m'F'\u001b[0m\u001b[0;34m:\u001b[0m\u001b[0;34m\u001b[0m\u001b[0m\n\u001b[0;32m--> 211\u001b[0;31m             \u001b[0mf\u001b[0m \u001b[0;34m=\u001b[0m \u001b[0mmodel\u001b[0m\u001b[0;34m.\u001b[0m\u001b[0mf_test\u001b[0m\u001b[0;34m(\u001b[0m\u001b[0mL12\u001b[0m\u001b[0;34m,\u001b[0m \u001b[0mcov_p\u001b[0m\u001b[0;34m=\u001b[0m\u001b[0mrobust_cov\u001b[0m\u001b[0;34m)\u001b[0m\u001b[0;34m\u001b[0m\u001b[0m\n\u001b[0m\u001b[1;32m    212\u001b[0m             \u001b[0mtable\u001b[0m\u001b[0;34m.\u001b[0m\u001b[0mix\u001b[0m\u001b[0;34m[\u001b[0m\u001b[0mi\u001b[0m\u001b[0;34m,\u001b[0m \u001b[0mtest\u001b[0m\u001b[0;34m]\u001b[0m \u001b[0;34m=\u001b[0m \u001b[0mtest_value\u001b[0m \u001b[0;34m=\u001b[0m \u001b[0mf\u001b[0m\u001b[0;34m.\u001b[0m\u001b[0mfvalue\u001b[0m\u001b[0;34m\u001b[0m\u001b[0m\n\u001b[1;32m    213\u001b[0m             \u001b[0mtable\u001b[0m\u001b[0;34m.\u001b[0m\u001b[0mix\u001b[0m\u001b[0;34m[\u001b[0m\u001b[0mi\u001b[0m\u001b[0;34m,\u001b[0m \u001b[0mpr_test\u001b[0m\u001b[0;34m]\u001b[0m \u001b[0;34m=\u001b[0m \u001b[0mf\u001b[0m\u001b[0;34m.\u001b[0m\u001b[0mpvalue\u001b[0m\u001b[0;34m\u001b[0m\u001b[0m\n",
      "\u001b[0;32m/Users/thomas/.virtualenvs/nlpy3/lib/python3.5/site-packages/statsmodels/base/model.py\u001b[0m in \u001b[0;36mf_test\u001b[0;34m(self, r_matrix, cov_p, scale, invcov)\u001b[0m\n\u001b[1;32m   1373\u001b[0m         \"\"\"\n\u001b[1;32m   1374\u001b[0m         res = self.wald_test(r_matrix, cov_p=cov_p, scale=scale,\n\u001b[0;32m-> 1375\u001b[0;31m                              invcov=invcov, use_f=True)\n\u001b[0m\u001b[1;32m   1376\u001b[0m         \u001b[0;32mreturn\u001b[0m \u001b[0mres\u001b[0m\u001b[0;34m\u001b[0m\u001b[0m\n\u001b[1;32m   1377\u001b[0m \u001b[0;34m\u001b[0m\u001b[0m\n",
      "\u001b[0;32m/Users/thomas/.virtualenvs/nlpy3/lib/python3.5/site-packages/statsmodels/base/model.py\u001b[0m in \u001b[0;36mwald_test\u001b[0;34m(self, r_matrix, cov_p, scale, invcov, use_f)\u001b[0m\n\u001b[1;32m   1458\u001b[0m             \u001b[0mcov_p\u001b[0m \u001b[0;34m=\u001b[0m \u001b[0mself\u001b[0m\u001b[0;34m.\u001b[0m\u001b[0mcov_params\u001b[0m\u001b[0;34m(\u001b[0m\u001b[0mr_matrix\u001b[0m\u001b[0;34m=\u001b[0m\u001b[0mr_matrix\u001b[0m\u001b[0;34m,\u001b[0m \u001b[0mcov_p\u001b[0m\u001b[0;34m=\u001b[0m\u001b[0mcov_p\u001b[0m\u001b[0;34m)\u001b[0m\u001b[0;34m\u001b[0m\u001b[0m\n\u001b[1;32m   1459\u001b[0m             \u001b[0;32mif\u001b[0m \u001b[0mnp\u001b[0m\u001b[0;34m.\u001b[0m\u001b[0misnan\u001b[0m\u001b[0;34m(\u001b[0m\u001b[0mcov_p\u001b[0m\u001b[0;34m)\u001b[0m\u001b[0;34m.\u001b[0m\u001b[0mmax\u001b[0m\u001b[0;34m(\u001b[0m\u001b[0;34m)\u001b[0m\u001b[0;34m:\u001b[0m\u001b[0;34m\u001b[0m\u001b[0m\n\u001b[0;32m-> 1460\u001b[0;31m                 raise ValueError(\"r_matrix performs f_test for using \"\n\u001b[0m\u001b[1;32m   1461\u001b[0m                                  \u001b[0;34m\"dimensions that are asymptotically \"\u001b[0m\u001b[0;34m\u001b[0m\u001b[0m\n\u001b[1;32m   1462\u001b[0m                                  \"non-normal\")\n",
      "\u001b[0;31mValueError\u001b[0m: r_matrix performs f_test for using dimensions that are asymptotically non-normal"
     ]
    }
   ],
   "source": [
    "from paralysis.parameter_ablation import ParameterAnalyser\n",
    "pa = ParameterAnalyser(data=DATA_PATH, label_name='result')\n",
    "pa.fit_ols()\n",
    "\n",
    "print(pa.anova_table_fmt_)"
   ]
  },
  {
   "cell_type": "code",
   "execution_count": null,
   "metadata": {
    "collapsed": false
   },
   "outputs": [],
   "source": [
    "sns.set(style=\"whitegrid\")\n",
    "f, ax = plt.subplots(figsize=(17.21, 11.86), dpi=900, facecolor='w', edgecolor='k')\n",
    "plt.hold(True)\n",
    "plt.grid(True)\n",
    "\n",
    "sns.pointplot(x=\"pct_explained\", y=\"parameter\", data=pa.anova_table_fmt_, join=False, palette=\"deep\",\n",
    "              markers=[\"*\"], scale=2.5, ci=None)\n",
    "for tick in ax.xaxis.get_major_ticks():\n",
    "    tick.label.set_fontsize(32)\n",
    "\n",
    "for tock in ax.yaxis.get_major_ticks():\n",
    "    tock.label.set_fontsize(32)\n",
    "leg = plt.legend(bbox_to_anchor=(1., 0.37), fancybox=True, fontsize=32)\n",
    "plt.xlabel('Variance explained (%)', fontsize=42)\n",
    "plt.ylabel('Parameter', fontsize=42)\n",
    "#plt.savefig(os.path.join(out_path, 'param_ablation_wordsim_2.png'), bbox_extra_artists=(leg,), bbox_inches='tight', ncol=3)"
   ]
  },
  {
   "cell_type": "code",
   "execution_count": null,
   "metadata": {
    "collapsed": true
   },
   "outputs": [],
   "source": []
  }
 ],
 "metadata": {
  "kernelspec": {
   "display_name": "Python 3",
   "language": "python",
   "name": "python3"
  },
  "language_info": {
   "codemirror_mode": {
    "name": "ipython",
    "version": 3
   },
   "file_extension": ".py",
   "mimetype": "text/x-python",
   "name": "python",
   "nbconvert_exporter": "python",
   "pygments_lexer": "ipython3",
   "version": "3.5.2"
  }
 },
 "nbformat": 4,
 "nbformat_minor": 1
}
